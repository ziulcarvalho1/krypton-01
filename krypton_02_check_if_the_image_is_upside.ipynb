{
 "cells": [
  {
   "cell_type": "code",
   "execution_count": null,
   "metadata": {
    "colab": {
     "base_uri": "https://localhost:8080/"
    },
    "id": "epErYODm4D9l",
    "outputId": "442070d6-0954-4da5-d80b-832458bd783d"
   },
   "outputs": [
    {
     "name": "stdout",
     "output_type": "stream",
     "text": [
      "Requirement already satisfied: pytesseract in /usr/local/lib/python3.6/dist-packages (0.3.7)\n",
      "Requirement already satisfied: Pillow in /usr/local/lib/python3.6/dist-packages (from pytesseract) (7.0.0)\n",
      "Requirement already satisfied: pdf2image in /usr/local/lib/python3.6/dist-packages (1.14.0)\n",
      "Requirement already satisfied: pillow in /usr/local/lib/python3.6/dist-packages (from pdf2image) (7.0.0)\n",
      "Requirement already satisfied: imutils in /usr/local/lib/python3.6/dist-packages (0.5.4)\n",
      "Requirement already satisfied: pillow in /usr/local/lib/python3.6/dist-packages (7.0.0)\n",
      "Requirement already satisfied: wand in /usr/local/lib/python3.6/dist-packages (0.6.5)\n",
      "Reading package lists... Done\n",
      "Building dependency tree       \n",
      "Reading state information... Done\n",
      "imagemagick is already the newest version (8:6.9.7.4+dfsg-16ubuntu6.9).\n",
      "0 upgraded, 0 newly installed, 0 to remove and 10 not upgraded.\n"
     ]
    }
   ],
   "source": [
    "!pip install pytesseract\r\n",
    "!pip install pdf2image\r\n",
    "!pip install imutils\r\n",
    "!pip install pillow\r\n",
    "!pip install wand\r\n",
    "!apt install imagemagick"
   ]
  },
  {
   "cell_type": "code",
   "execution_count": null,
   "metadata": {
    "id": "QUqnPIvq0_m_"
   },
   "outputs": [],
   "source": [
    "import numpy as np\n",
    "import cv2\n",
    "import os\n",
    "import sys \n",
    "from pdf2image import convert_from_path, convert_from_bytes\n",
    "from pdf2image.exceptions import (\n",
    "    PDFInfoNotInstalledError,\n",
    "    PDFPageCountError,\n",
    "    PDFSyntaxError\n",
    ")\n",
    "\n",
    "from skimage.transform import radon\n",
    "from wand.color import Color\n",
    "from wand.image import Image as Img"
   ]
  },
  {
   "cell_type": "code",
   "execution_count": null,
   "metadata": {
    "colab": {
     "base_uri": "https://localhost:8080/"
    },
    "id": "JiH6jAWZ5qd3",
    "outputId": "92465f12-4aef-4fcd-dc4c-edf6a68b3fd6"
   },
   "outputs": [
    {
     "name": "stdout",
     "output_type": "stream",
     "text": [
      "Requirement already satisfied: poppler-utils in /usr/local/lib/python3.6/dist-packages (0.1.0)\n",
      "Requirement already satisfied: Click>=7.0 in /usr/local/lib/python3.6/dist-packages (from poppler-utils) (7.1.2)\n"
     ]
    }
   ],
   "source": [
    "!pip install poppler-utils"
   ]
  },
  {
   "cell_type": "code",
   "execution_count": null,
   "metadata": {
    "colab": {
     "base_uri": "https://localhost:8080/"
    },
    "id": "NhWEtRG21Iyi",
    "outputId": "52492806-fc53-4cc0-a37b-4ca5f3e682dd"
   },
   "outputs": [
    {
     "name": "stdout",
     "output_type": "stream",
     "text": [
      "Drive already mounted at /content/drive; to attempt to forcibly remount, call drive.mount(\"/content/drive\", force_remount=True).\n"
     ]
    }
   ],
   "source": [
    "from google.colab import drive\n",
    "drive.mount('/content/drive')"
   ]
  },
  {
   "cell_type": "code",
   "execution_count": null,
   "metadata": {
    "colab": {
     "base_uri": "https://localhost:8080/"
    },
    "id": "xe4-T0xm0_nN",
    "outputId": "46eddf46-1e0f-4302-b74c-16cce53fb583"
   },
   "outputs": [
    {
     "name": "stdout",
     "output_type": "stream",
     "text": [
      "['2019-02-07_15-13-58-1549559638_E_1421_5866883.jpeg', '2018-12-28_10-14-45-1545999285_E_1421_9709237.jpeg', '2018-12-28_10-14-44-1545999284_E_1421_7212959.jpeg', '2018-07-16_11-25_7904157.jpeg', '2018-06-07_13-40_4636502-1.jpeg', '2018-06-07_13-40_4636502-0.jpeg', '2017-09-01_13-34_9388784.jpeg', '2017-08-17_09-23_8104498.jpeg', '2019-03-07_10-09-49-1551964189_E_1421_8459753.jpeg', '2019-03-07_09-49-01-1551962941_E_1421_9975417.jpeg', '2019-03-07_09-49-01-1551962941_E_1421_7146339.jpeg', '2019-02-22_15-51-53-1550861513_E_1421_5153083.jpeg', '2019-02-07_15-14-32-1549559672_E_1421_8270596.jpeg', '2019-02-07_15-14-32-1549559672_E_1421_3590166.jpeg', '2019-02-07_15-13-58-1549559638_E_1421_9932510.jpeg', '2019-05-02_15-34-37-1556822077_E_1421_4112820.jpeg', '2019-05-02_15-16-28-1556820988_E_1421_5821598.jpeg', '2019-05-02_15-16-28-1556820988_E_1421_1288288.jpeg', '2019-03-27_08-57-09-1553687829_E_1421_2564011.jpeg', '2019-03-27_08-56-55-1553687815_E_1421_1601049.jpeg', '2019-03-11_08-06-26-1552302386_E_1314_1612789.jpeg', '2019-03-07_11-48-04-1551970084_E_1421_4873454.jpeg', '2019-06-01_12-46-46-1559404006_E_1421_8879172.jpeg', '2019-05-31_15-15-40-1559326540_E_1421_2050743.jpeg', '2019-05-30_12-33-26-1559230406_E_2007_4502107.jpeg', '2019-05-20_16-53-53-1558382033_E_1421_8516255.jpeg', '2019-05-20_16-53-53-1558382033_E_1421_2353919.jpeg', '2019-05-10_08-15-35-1557486935_E_2007_5382548.jpeg', '2019-05-03_12-36-34-1556897794_E_1970_3707255.jpeg', '2019-06-24_10-37-47-1561383467_E_1421_8367653.jpeg', '2019-06-24_10-37-47-1561383467_E_1421_4298825.jpeg', '2019-06-06_14-04-03-1559840643_E_2007_6317400.jpeg', '2019-06-03_10-20-27-1559568027_E_2007_8312268.jpeg', '2019-06-03_10-20-27-1559568027_E_2007_6126152.jpeg', '2019-06-03_10-20-27-1559568027_E_2007_3894782.jpeg', '2019-06-01_13-25-27-1559406327_E_1421_9661568.jpeg', '2019-06-01_13-25-27-1559406327_E_1421_4148928.jpeg', '2019-06-01_12-46-57-1559404017_E_1421_8080005.jpeg', '2019-07-03_16-27-11-1562182031_E_1421_4581616.jpeg', '2019-07-03_16-27-11-1562182031_E_1421_4212279.jpeg', '2019-07-01_14-08-33-1562000913_E_1421_9128101.jpeg', '2019-07-01_14-08-33-1562000913_E_1421_6164334.jpeg', '2019-06-27_16-33-48-1561664028_E_1421_1117341.jpeg', '2019-06-27_16-27-53-1561663673_E_2007_2119707.jpeg', '2019-06-25_14-58-46-1561485526_E_1421_5449707.jpeg', '2019-06-25_14-58-46-1561485526_E_1421_4728081.jpeg', '2019-07-05_16-33-02-1562355182_E_2007_1558707.jpeg', '2019-07-04_08-34-49-1562240089_E_1421_4939063.jpeg', '2019-07-03_16-27-11-1562182031_E_1421_6484623.jpeg', '2019-07-03_16-27-11-1562182031_E_1421_5709327.jpeg', '2019-07-03_16-27-11-1562182031_E_1421_5363169.jpeg']\n"
     ]
    }
   ],
   "source": [
    "mypath=\"/content/drive/MyDrive/jpegx\"\n",
    "file_names = [f for f in os.listdir(mypath) if os.path.isfile(os.path.join(mypath, f))]\n",
    "print(file_names)"
   ]
  },
  {
   "cell_type": "code",
   "execution_count": null,
   "metadata": {
    "colab": {
     "base_uri": "https://localhost:8080/"
    },
    "id": "lWlt29Cw0_nO",
    "outputId": "968b7f06-75b0-413f-ab31-5c3991946f69"
   },
   "outputs": [
    {
     "name": "stdout",
     "output_type": "stream",
     "text": [
      "2019-02-07_15-13-58-1549559638_E_1421_5866883\n",
      "/content/drive/MyDrive/pdfx/2019-02-07_15-13-58-1549559638_E_1421_5866883.pdf\n",
      "/content/drive/MyDrive/jpegx/2019-02-07_15-13-58-1549559638_E_1421_5866883.jpeg\n"
     ]
    },
    {
     "name": "stderr",
     "output_type": "stream",
     "text": [
      "/usr/local/lib/python3.6/dist-packages/skimage/transform/radon_transform.py:87: VisibleDeprecationWarning: Creating an ndarray from ragged nested sequences (which is a list-or-tuple of lists-or-tuples-or ndarrays with different lengths or shapes) is deprecated. If you meant to do this, you must specify 'dtype=object' when creating the ndarray\n",
      "  coords = np.array(np.ogrid[:image.shape[0], :image.shape[1]])\n",
      "/usr/local/lib/python3.6/dist-packages/skimage/transform/radon_transform.py:91: UserWarning: Radon transform: image must be zero outside the reconstruction circle\n",
      "  warn('Radon transform: image must be zero outside the '\n"
     ]
    },
    {
     "name": "stdout",
     "output_type": "stream",
     "text": [
      "Rotation: -1.00 degrees\n",
      "2018-12-28_10-14-45-1545999285_E_1421_9709237\n",
      "/content/drive/MyDrive/pdfx/2018-12-28_10-14-45-1545999285_E_1421_9709237.pdf\n",
      "/content/drive/MyDrive/jpegx/2018-12-28_10-14-45-1545999285_E_1421_9709237.jpeg\n",
      "Rotation: 2.00 degrees\n",
      "2018-12-28_10-14-44-1545999284_E_1421_7212959\n",
      "/content/drive/MyDrive/pdfx/2018-12-28_10-14-44-1545999284_E_1421_7212959.pdf\n",
      "/content/drive/MyDrive/jpegx/2018-12-28_10-14-44-1545999284_E_1421_7212959.jpeg\n",
      "Rotation: 3.00 degrees\n",
      "2018-07-16_11-25_7904157\n",
      "/content/drive/MyDrive/pdfx/2018-07-16_11-25_7904157.pdf\n",
      "/content/drive/MyDrive/jpegx/2018-07-16_11-25_7904157.jpeg\n",
      "Rotation: 0.00 degrees\n",
      "2018-06-07_13-40_4636502-1\n",
      "/content/drive/MyDrive/pdfx/2018-06-07_13-40_4636502-1.pdf\n",
      "/content/drive/MyDrive/jpegx/2018-06-07_13-40_4636502-1.jpeg\n",
      "Rotation: 0.00 degrees\n",
      "2018-06-07_13-40_4636502-0\n",
      "/content/drive/MyDrive/pdfx/2018-06-07_13-40_4636502-0.pdf\n",
      "/content/drive/MyDrive/jpegx/2018-06-07_13-40_4636502-0.jpeg\n",
      "Rotation: 0.00 degrees\n",
      "2017-09-01_13-34_9388784\n",
      "/content/drive/MyDrive/pdfx/2017-09-01_13-34_9388784.pdf\n",
      "/content/drive/MyDrive/jpegx/2017-09-01_13-34_9388784.jpeg\n",
      "Rotation: 0.00 degrees\n",
      "2017-08-17_09-23_8104498\n",
      "/content/drive/MyDrive/pdfx/2017-08-17_09-23_8104498.pdf\n",
      "/content/drive/MyDrive/jpegx/2017-08-17_09-23_8104498.jpeg\n",
      "Rotation: 1.00 degrees\n",
      "2019-03-07_10-09-49-1551964189_E_1421_8459753\n",
      "/content/drive/MyDrive/pdfx/2019-03-07_10-09-49-1551964189_E_1421_8459753.pdf\n",
      "/content/drive/MyDrive/jpegx/2019-03-07_10-09-49-1551964189_E_1421_8459753.jpeg\n",
      "Rotation: 2.00 degrees\n",
      "2019-03-07_09-49-01-1551962941_E_1421_9975417\n",
      "/content/drive/MyDrive/pdfx/2019-03-07_09-49-01-1551962941_E_1421_9975417.pdf\n",
      "/content/drive/MyDrive/jpegx/2019-03-07_09-49-01-1551962941_E_1421_9975417.jpeg\n",
      "Rotation: 1.00 degrees\n",
      "2019-03-07_09-49-01-1551962941_E_1421_7146339\n",
      "/content/drive/MyDrive/pdfx/2019-03-07_09-49-01-1551962941_E_1421_7146339.pdf\n",
      "/content/drive/MyDrive/jpegx/2019-03-07_09-49-01-1551962941_E_1421_7146339.jpeg\n",
      "Rotation: 1.00 degrees\n",
      "2019-02-22_15-51-53-1550861513_E_1421_5153083\n",
      "/content/drive/MyDrive/pdfx/2019-02-22_15-51-53-1550861513_E_1421_5153083.pdf\n",
      "/content/drive/MyDrive/jpegx/2019-02-22_15-51-53-1550861513_E_1421_5153083.jpeg\n",
      "Rotation: 1.00 degrees\n",
      "2019-02-07_15-14-32-1549559672_E_1421_8270596\n",
      "/content/drive/MyDrive/pdfx/2019-02-07_15-14-32-1549559672_E_1421_8270596.pdf\n",
      "/content/drive/MyDrive/jpegx/2019-02-07_15-14-32-1549559672_E_1421_8270596.jpeg\n",
      "Rotation: 1.00 degrees\n",
      "2019-02-07_15-14-32-1549559672_E_1421_3590166\n",
      "/content/drive/MyDrive/pdfx/2019-02-07_15-14-32-1549559672_E_1421_3590166.pdf\n",
      "/content/drive/MyDrive/jpegx/2019-02-07_15-14-32-1549559672_E_1421_3590166.jpeg\n",
      "Rotation: 0.00 degrees\n",
      "2019-02-07_15-13-58-1549559638_E_1421_9932510\n",
      "/content/drive/MyDrive/pdfx/2019-02-07_15-13-58-1549559638_E_1421_9932510.pdf\n",
      "/content/drive/MyDrive/jpegx/2019-02-07_15-13-58-1549559638_E_1421_9932510.jpeg\n",
      "Rotation: 2.00 degrees\n",
      "2019-05-02_15-34-37-1556822077_E_1421_4112820\n",
      "/content/drive/MyDrive/pdfx/2019-05-02_15-34-37-1556822077_E_1421_4112820.pdf\n",
      "/content/drive/MyDrive/jpegx/2019-05-02_15-34-37-1556822077_E_1421_4112820.jpeg\n",
      "Rotation: 0.00 degrees\n",
      "2019-05-02_15-16-28-1556820988_E_1421_5821598\n",
      "/content/drive/MyDrive/pdfx/2019-05-02_15-16-28-1556820988_E_1421_5821598.pdf\n",
      "/content/drive/MyDrive/jpegx/2019-05-02_15-16-28-1556820988_E_1421_5821598.jpeg\n",
      "Rotation: 2.00 degrees\n",
      "2019-05-02_15-16-28-1556820988_E_1421_1288288\n",
      "/content/drive/MyDrive/pdfx/2019-05-02_15-16-28-1556820988_E_1421_1288288.pdf\n",
      "/content/drive/MyDrive/jpegx/2019-05-02_15-16-28-1556820988_E_1421_1288288.jpeg\n",
      "Rotation: 0.00 degrees\n",
      "2019-03-27_08-57-09-1553687829_E_1421_2564011\n",
      "/content/drive/MyDrive/pdfx/2019-03-27_08-57-09-1553687829_E_1421_2564011.pdf\n",
      "/content/drive/MyDrive/jpegx/2019-03-27_08-57-09-1553687829_E_1421_2564011.jpeg\n",
      "Rotation: 0.00 degrees\n",
      "2019-03-27_08-56-55-1553687815_E_1421_1601049\n",
      "/content/drive/MyDrive/pdfx/2019-03-27_08-56-55-1553687815_E_1421_1601049.pdf\n",
      "/content/drive/MyDrive/jpegx/2019-03-27_08-56-55-1553687815_E_1421_1601049.jpeg\n",
      "Rotation: 0.00 degrees\n",
      "2019-03-11_08-06-26-1552302386_E_1314_1612789\n",
      "/content/drive/MyDrive/pdfx/2019-03-11_08-06-26-1552302386_E_1314_1612789.pdf\n",
      "/content/drive/MyDrive/jpegx/2019-03-11_08-06-26-1552302386_E_1314_1612789.jpeg\n",
      "Rotation: 0.00 degrees\n",
      "2019-03-07_11-48-04-1551970084_E_1421_4873454\n",
      "/content/drive/MyDrive/pdfx/2019-03-07_11-48-04-1551970084_E_1421_4873454.pdf\n",
      "/content/drive/MyDrive/jpegx/2019-03-07_11-48-04-1551970084_E_1421_4873454.jpeg\n",
      "Rotation: 1.00 degrees\n",
      "2019-06-01_12-46-46-1559404006_E_1421_8879172\n",
      "/content/drive/MyDrive/pdfx/2019-06-01_12-46-46-1559404006_E_1421_8879172.pdf\n",
      "/content/drive/MyDrive/jpegx/2019-06-01_12-46-46-1559404006_E_1421_8879172.jpeg\n",
      "Rotation: 1.00 degrees\n",
      "2019-05-31_15-15-40-1559326540_E_1421_2050743\n",
      "/content/drive/MyDrive/pdfx/2019-05-31_15-15-40-1559326540_E_1421_2050743.pdf\n",
      "/content/drive/MyDrive/jpegx/2019-05-31_15-15-40-1559326540_E_1421_2050743.jpeg\n",
      "Rotation: 0.00 degrees\n",
      "2019-05-30_12-33-26-1559230406_E_2007_4502107\n",
      "/content/drive/MyDrive/pdfx/2019-05-30_12-33-26-1559230406_E_2007_4502107.pdf\n",
      "/content/drive/MyDrive/jpegx/2019-05-30_12-33-26-1559230406_E_2007_4502107.jpeg\n",
      "Rotation: 0.00 degrees\n",
      "2019-05-20_16-53-53-1558382033_E_1421_8516255\n",
      "/content/drive/MyDrive/pdfx/2019-05-20_16-53-53-1558382033_E_1421_8516255.pdf\n",
      "/content/drive/MyDrive/jpegx/2019-05-20_16-53-53-1558382033_E_1421_8516255.jpeg\n",
      "Rotation: -3.00 degrees\n",
      "2019-05-20_16-53-53-1558382033_E_1421_2353919\n",
      "/content/drive/MyDrive/pdfx/2019-05-20_16-53-53-1558382033_E_1421_2353919.pdf\n",
      "/content/drive/MyDrive/jpegx/2019-05-20_16-53-53-1558382033_E_1421_2353919.jpeg\n",
      "Rotation: 0.00 degrees\n",
      "2019-05-10_08-15-35-1557486935_E_2007_5382548\n",
      "/content/drive/MyDrive/pdfx/2019-05-10_08-15-35-1557486935_E_2007_5382548.pdf\n",
      "/content/drive/MyDrive/jpegx/2019-05-10_08-15-35-1557486935_E_2007_5382548.jpeg\n",
      "Rotation: -1.00 degrees\n",
      "2019-05-03_12-36-34-1556897794_E_1970_3707255\n",
      "/content/drive/MyDrive/pdfx/2019-05-03_12-36-34-1556897794_E_1970_3707255.pdf\n",
      "/content/drive/MyDrive/jpegx/2019-05-03_12-36-34-1556897794_E_1970_3707255.jpeg\n",
      "Rotation: 0.00 degrees\n",
      "2019-06-24_10-37-47-1561383467_E_1421_8367653\n",
      "/content/drive/MyDrive/pdfx/2019-06-24_10-37-47-1561383467_E_1421_8367653.pdf\n",
      "/content/drive/MyDrive/jpegx/2019-06-24_10-37-47-1561383467_E_1421_8367653.jpeg\n",
      "Rotation: 0.00 degrees\n",
      "2019-06-24_10-37-47-1561383467_E_1421_4298825\n",
      "/content/drive/MyDrive/pdfx/2019-06-24_10-37-47-1561383467_E_1421_4298825.pdf\n",
      "/content/drive/MyDrive/jpegx/2019-06-24_10-37-47-1561383467_E_1421_4298825.jpeg\n",
      "Rotation: -3.00 degrees\n",
      "2019-06-06_14-04-03-1559840643_E_2007_6317400\n",
      "/content/drive/MyDrive/pdfx/2019-06-06_14-04-03-1559840643_E_2007_6317400.pdf\n",
      "/content/drive/MyDrive/jpegx/2019-06-06_14-04-03-1559840643_E_2007_6317400.jpeg\n",
      "Rotation: 0.00 degrees\n",
      "2019-06-03_10-20-27-1559568027_E_2007_8312268\n",
      "/content/drive/MyDrive/pdfx/2019-06-03_10-20-27-1559568027_E_2007_8312268.pdf\n",
      "/content/drive/MyDrive/jpegx/2019-06-03_10-20-27-1559568027_E_2007_8312268.jpeg\n",
      "Rotation: 0.00 degrees\n",
      "2019-06-03_10-20-27-1559568027_E_2007_6126152\n",
      "/content/drive/MyDrive/pdfx/2019-06-03_10-20-27-1559568027_E_2007_6126152.pdf\n",
      "/content/drive/MyDrive/jpegx/2019-06-03_10-20-27-1559568027_E_2007_6126152.jpeg\n",
      "Rotation: 0.00 degrees\n",
      "2019-06-03_10-20-27-1559568027_E_2007_3894782\n",
      "/content/drive/MyDrive/pdfx/2019-06-03_10-20-27-1559568027_E_2007_3894782.pdf\n",
      "/content/drive/MyDrive/jpegx/2019-06-03_10-20-27-1559568027_E_2007_3894782.jpeg\n",
      "Rotation: 0.00 degrees\n",
      "2019-06-01_13-25-27-1559406327_E_1421_9661568\n",
      "/content/drive/MyDrive/pdfx/2019-06-01_13-25-27-1559406327_E_1421_9661568.pdf\n",
      "/content/drive/MyDrive/jpegx/2019-06-01_13-25-27-1559406327_E_1421_9661568.jpeg\n",
      "Rotation: 0.00 degrees\n",
      "2019-06-01_13-25-27-1559406327_E_1421_4148928\n",
      "/content/drive/MyDrive/pdfx/2019-06-01_13-25-27-1559406327_E_1421_4148928.pdf\n",
      "/content/drive/MyDrive/jpegx/2019-06-01_13-25-27-1559406327_E_1421_4148928.jpeg\n",
      "Rotation: -1.00 degrees\n",
      "2019-06-01_12-46-57-1559404017_E_1421_8080005\n",
      "/content/drive/MyDrive/pdfx/2019-06-01_12-46-57-1559404017_E_1421_8080005.pdf\n",
      "/content/drive/MyDrive/jpegx/2019-06-01_12-46-57-1559404017_E_1421_8080005.jpeg\n",
      "Rotation: 2.00 degrees\n",
      "2019-07-03_16-27-11-1562182031_E_1421_4581616\n",
      "/content/drive/MyDrive/pdfx/2019-07-03_16-27-11-1562182031_E_1421_4581616.pdf\n",
      "/content/drive/MyDrive/jpegx/2019-07-03_16-27-11-1562182031_E_1421_4581616.jpeg\n",
      "Rotation: 0.00 degrees\n",
      "2019-07-03_16-27-11-1562182031_E_1421_4212279\n",
      "/content/drive/MyDrive/pdfx/2019-07-03_16-27-11-1562182031_E_1421_4212279.pdf\n",
      "/content/drive/MyDrive/jpegx/2019-07-03_16-27-11-1562182031_E_1421_4212279.jpeg\n",
      "Rotation: 0.00 degrees\n",
      "2019-07-01_14-08-33-1562000913_E_1421_9128101\n",
      "/content/drive/MyDrive/pdfx/2019-07-01_14-08-33-1562000913_E_1421_9128101.pdf\n",
      "/content/drive/MyDrive/jpegx/2019-07-01_14-08-33-1562000913_E_1421_9128101.jpeg\n",
      "Rotation: 2.00 degrees\n",
      "2019-07-01_14-08-33-1562000913_E_1421_6164334\n",
      "/content/drive/MyDrive/pdfx/2019-07-01_14-08-33-1562000913_E_1421_6164334.pdf\n",
      "/content/drive/MyDrive/jpegx/2019-07-01_14-08-33-1562000913_E_1421_6164334.jpeg\n",
      "Rotation: 0.00 degrees\n",
      "2019-06-27_16-33-48-1561664028_E_1421_1117341\n",
      "/content/drive/MyDrive/pdfx/2019-06-27_16-33-48-1561664028_E_1421_1117341.pdf\n",
      "/content/drive/MyDrive/jpegx/2019-06-27_16-33-48-1561664028_E_1421_1117341.jpeg\n",
      "Rotation: 1.00 degrees\n",
      "2019-06-27_16-27-53-1561663673_E_2007_2119707\n",
      "/content/drive/MyDrive/pdfx/2019-06-27_16-27-53-1561663673_E_2007_2119707.pdf\n",
      "/content/drive/MyDrive/jpegx/2019-06-27_16-27-53-1561663673_E_2007_2119707.jpeg\n",
      "Rotation: 0.00 degrees\n",
      "2019-06-25_14-58-46-1561485526_E_1421_5449707\n",
      "/content/drive/MyDrive/pdfx/2019-06-25_14-58-46-1561485526_E_1421_5449707.pdf\n",
      "/content/drive/MyDrive/jpegx/2019-06-25_14-58-46-1561485526_E_1421_5449707.jpeg\n",
      "Rotation: 3.00 degrees\n",
      "2019-06-25_14-58-46-1561485526_E_1421_4728081\n",
      "/content/drive/MyDrive/pdfx/2019-06-25_14-58-46-1561485526_E_1421_4728081.pdf\n",
      "/content/drive/MyDrive/jpegx/2019-06-25_14-58-46-1561485526_E_1421_4728081.jpeg\n",
      "Rotation: 2.00 degrees\n",
      "2019-07-05_16-33-02-1562355182_E_2007_1558707\n",
      "/content/drive/MyDrive/pdfx/2019-07-05_16-33-02-1562355182_E_2007_1558707.pdf\n",
      "/content/drive/MyDrive/jpegx/2019-07-05_16-33-02-1562355182_E_2007_1558707.jpeg\n",
      "Rotation: 0.00 degrees\n",
      "2019-07-04_08-34-49-1562240089_E_1421_4939063\n",
      "/content/drive/MyDrive/pdfx/2019-07-04_08-34-49-1562240089_E_1421_4939063.pdf\n",
      "/content/drive/MyDrive/jpegx/2019-07-04_08-34-49-1562240089_E_1421_4939063.jpeg\n",
      "Rotation: 1.00 degrees\n",
      "2019-07-03_16-27-11-1562182031_E_1421_6484623\n",
      "/content/drive/MyDrive/pdfx/2019-07-03_16-27-11-1562182031_E_1421_6484623.pdf\n",
      "/content/drive/MyDrive/jpegx/2019-07-03_16-27-11-1562182031_E_1421_6484623.jpeg\n",
      "Rotation: 0.00 degrees\n",
      "2019-07-03_16-27-11-1562182031_E_1421_5709327\n",
      "/content/drive/MyDrive/pdfx/2019-07-03_16-27-11-1562182031_E_1421_5709327.pdf\n",
      "/content/drive/MyDrive/jpegx/2019-07-03_16-27-11-1562182031_E_1421_5709327.jpeg\n",
      "Rotation: 2.00 degrees\n",
      "2019-07-03_16-27-11-1562182031_E_1421_5363169\n",
      "/content/drive/MyDrive/pdfx/2019-07-03_16-27-11-1562182031_E_1421_5363169.pdf\n",
      "/content/drive/MyDrive/jpegx/2019-07-03_16-27-11-1562182031_E_1421_5363169.jpeg\n",
      "Rotation: 1.00 degrees\n"
     ]
    }
   ],
   "source": [
    "from PIL import Image\n",
    "for file in file_names:\n",
    "  final = (file[len(file)-4:])\n",
    "  nome  = (file[:len(file)-5])\n",
    "  if final=='jpeg':\n",
    "    print(nome)\n",
    "    ## Converts original PDF into jpeg\n",
    "    origem = \"/content/drive/MyDrive/pdfx/\"+nome+\".pdf\"\n",
    "    destino= \"/content/drive/MyDrive/jpegx/\"+nome+\".jpeg\"\n",
    "    origem1 = \"/content/drive/MyDrive/jpegx/\"+nome+\".jpeg\"\n",
    "    destino1= \"/content/drive/MyDrive/jpegy/\"+nome+\".jpeg\"\n",
    "    origem2 = \"/content/drive/MyDrive/jpegy/\"+nome+\".jpeg\"\n",
    "    destino2= \"/content/drive/MyDrive/pdfy/\"+nome+\".pdf\"\n",
    "    print(origem)\n",
    "    print(destino)\n",
    "\n",
    "    #with Img(filename=origem, resolution=500) as img:\n",
    "      #img.background_color = Color(\"white\")\n",
    "      #img.alpha_channel = 'remove'\n",
    "      #img.colorspace = 'gray'\n",
    "      #img.save(filename=destino)\n",
    "        \n",
    "        \n",
    "        \n",
    "    #images = convert_from_path(origem)\n",
    "    #img = convert_from_path(origem)\n",
    "    #origem.save(destino, 'JPEG')\n",
    "    # Once the pdf was converted into jpeg check if it was upside down if yes rotate and save PDF\n",
    "    filename = origem1\n",
    "    # Load file, converting to grayscale\n",
    "    img = cv2.imread(filename)\n",
    "    I = cv2.cvtColor(img, cv2.COLOR_BGR2GRAY)\n",
    "    h, w = I.shape\n",
    "    # If the resolution is high, resize the image to reduce processing time.\n",
    "    if (w > 640):\n",
    "      I = cv2.resize(I, (640, int((h / w) * 640)))\n",
    "    I = I - np.mean(I)  # Demean; make the brightness extend above and below zero\n",
    "    # Do the radon transform\n",
    "    sinogram = radon(I)\n",
    "    # Find the RMS value of each row and find \"busiest\" rotation,\n",
    "    # where the transform is lined up perfectly with the alternating dark\n",
    "    # text and white lines\n",
    "    r = np.array([np.sqrt(np.mean(np.abs(line) ** 2)) for line in sinogram.transpose()])\n",
    "    rotation = np.argmax(r)\n",
    "    print('Rotation: {:.2f} degrees'.format(90 - rotation))\n",
    "    # Rotate and save with the original resolution\n",
    "    M = cv2.getRotationMatrix2D((w/2,h/2),90 - rotation,1)\n",
    "    dst = cv2.warpAffine(img,M,(w,h))\n",
    "    cv2.imwrite(destino1, dst)\n",
    "\n",
    "    image1 = Image.open(origem2)\n",
    "    im1 = image1.convert('RGB')\n",
    "    im1.save(destino2)\n"
   ]
  },
  {
   "cell_type": "code",
   "execution_count": null,
   "metadata": {
    "id": "8mblh9CY0_nQ"
   },
   "outputs": [],
   "source": [
    ""
   ]
  }
 ],
 "metadata": {
  "colab": {
   "name": "krypton-02-check if the image is upside.ipynb",
   "provenance": []
  },
  "kernelspec": {
   "display_name": "Python 3",
   "language": "python",
   "name": "python3"
  },
  "language_info": {
   "codemirror_mode": {
    "name": "ipython",
    "version": 3
   },
   "file_extension": ".py",
   "mimetype": "text/x-python",
   "name": "python",
   "nbconvert_exporter": "python",
   "pygments_lexer": "ipython3",
   "version": "3.7.6"
  }
 },
 "nbformat": 4,
 "nbformat_minor": 0
}
